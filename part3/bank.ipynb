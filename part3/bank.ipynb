{
 "cells": [
  {
   "cell_type": "code",
   "execution_count": 1,
   "metadata": {},
   "outputs": [],
   "source": [
    "# import dependencies\n",
    "import pandas as pd\n",
    "import numpy as np\n",
    "import matplotlib.pyplot as plt\n",
    "import torch\n",
    "import torch.nn as nn\n",
    "import torch.optim as optim\n",
    "from torch.utils.data import Dataset, DataLoader\n",
    "import torch.nn.functional as F"
   ]
  },
  {
   "cell_type": "code",
   "execution_count": 2,
   "metadata": {},
   "outputs": [
    {
     "name": "stdout",
     "output_type": "stream",
     "text": [
      "Python implementation: CPython\n",
      "Python version       : 3.9.16\n",
      "IPython version      : 8.5.0\n",
      "\n",
      "pandas    : 1.5.0\n",
      "numpy     : 1.23.4\n",
      "matplotlib: 3.6.1\n",
      "torch     : 1.12.1+cu116\n",
      "\n"
     ]
    }
   ],
   "source": [
    "# use watermark to keep track of package versions\n",
    "%load_ext watermark\n",
    "%watermark -v -p pandas,numpy,matplotlib,torch"
   ]
  },
  {
   "cell_type": "code",
   "execution_count": 3,
   "metadata": {},
   "outputs": [
    {
     "data": {
      "text/html": [
       "<div>\n",
       "<style scoped>\n",
       "    .dataframe tbody tr th:only-of-type {\n",
       "        vertical-align: middle;\n",
       "    }\n",
       "\n",
       "    .dataframe tbody tr th {\n",
       "        vertical-align: top;\n",
       "    }\n",
       "\n",
       "    .dataframe thead th {\n",
       "        text-align: right;\n",
       "    }\n",
       "</style>\n",
       "<table border=\"1\" class=\"dataframe\">\n",
       "  <thead>\n",
       "    <tr style=\"text-align: right;\">\n",
       "      <th></th>\n",
       "      <th>0</th>\n",
       "      <th>1</th>\n",
       "      <th>2</th>\n",
       "      <th>3</th>\n",
       "      <th>4</th>\n",
       "    </tr>\n",
       "  </thead>\n",
       "  <tbody>\n",
       "    <tr>\n",
       "      <th>0</th>\n",
       "      <td>3.62160</td>\n",
       "      <td>8.6661</td>\n",
       "      <td>-2.8073</td>\n",
       "      <td>-0.44699</td>\n",
       "      <td>0</td>\n",
       "    </tr>\n",
       "    <tr>\n",
       "      <th>1</th>\n",
       "      <td>4.54590</td>\n",
       "      <td>8.1674</td>\n",
       "      <td>-2.4586</td>\n",
       "      <td>-1.46210</td>\n",
       "      <td>0</td>\n",
       "    </tr>\n",
       "    <tr>\n",
       "      <th>2</th>\n",
       "      <td>3.86600</td>\n",
       "      <td>-2.6383</td>\n",
       "      <td>1.9242</td>\n",
       "      <td>0.10645</td>\n",
       "      <td>0</td>\n",
       "    </tr>\n",
       "    <tr>\n",
       "      <th>3</th>\n",
       "      <td>3.45660</td>\n",
       "      <td>9.5228</td>\n",
       "      <td>-4.0112</td>\n",
       "      <td>-3.59440</td>\n",
       "      <td>0</td>\n",
       "    </tr>\n",
       "    <tr>\n",
       "      <th>4</th>\n",
       "      <td>0.32924</td>\n",
       "      <td>-4.4552</td>\n",
       "      <td>4.5718</td>\n",
       "      <td>-0.98880</td>\n",
       "      <td>0</td>\n",
       "    </tr>\n",
       "  </tbody>\n",
       "</table>\n",
       "</div>"
      ],
      "text/plain": [
       "         0       1       2        3  4\n",
       "0  3.62160  8.6661 -2.8073 -0.44699  0\n",
       "1  4.54590  8.1674 -2.4586 -1.46210  0\n",
       "2  3.86600 -2.6383  1.9242  0.10645  0\n",
       "3  3.45660  9.5228 -4.0112 -3.59440  0\n",
       "4  0.32924 -4.4552  4.5718 -0.98880  0"
      ]
     },
     "execution_count": 3,
     "metadata": {},
     "output_type": "execute_result"
    }
   ],
   "source": [
    "# load data\n",
    "df = pd.read_csv(\"data_banknote_authentication.txt\", header=None)\n",
    "df.head()"
   ]
  },
  {
   "cell_type": "code",
   "execution_count": 4,
   "metadata": {},
   "outputs": [],
   "source": [
    "# split data into features and labels\n",
    "X_features = df[[0,1,2,3]].values\n",
    "y_labels = df[4].values"
   ]
  },
  {
   "cell_type": "code",
   "execution_count": 5,
   "metadata": {},
   "outputs": [
    {
     "name": "stdout",
     "output_type": "stream",
     "text": [
      "(1372, 4)\n"
     ]
    }
   ],
   "source": [
    "# check shape of features and labels\n",
    "print(X_features.shape)"
   ]
  },
  {
   "cell_type": "code",
   "execution_count": 6,
   "metadata": {},
   "outputs": [
    {
     "data": {
      "text/plain": [
       "array([762, 610])"
      ]
     },
     "execution_count": 6,
     "metadata": {},
     "output_type": "execute_result"
    }
   ],
   "source": [
    "# check label distribution\n",
    "np.bincount(y_labels)"
   ]
  },
  {
   "cell_type": "markdown",
   "metadata": {},
   "source": [
    "### Define the dataloader"
   ]
  },
  {
   "cell_type": "code",
   "execution_count": 7,
   "metadata": {},
   "outputs": [],
   "source": [
    "# define dataset class\n",
    "class MyDataset(Dataset):\n",
    "    def __init__(self, X, y):\n",
    "\n",
    "        # define features and labels\n",
    "        self.features = torch.tensor(X, dtype = torch.float32)\n",
    "        self.labels = torch.tensor(y, dtype = torch.float32)\n",
    "\n",
    "    def __getitem__(self, index):\n",
    "        x = self.features[index]\n",
    "        y = self.labels[index]\n",
    "        return x, y\n",
    "    \n",
    "    def __len__(self):\n",
    "        return self.labels.shape[0]"
   ]
  },
  {
   "cell_type": "code",
   "execution_count": 8,
   "metadata": {},
   "outputs": [
    {
     "data": {
      "text/plain": [
       "1097"
      ]
     },
     "execution_count": 8,
     "metadata": {},
     "output_type": "execute_result"
    }
   ],
   "source": [
    "# train size\n",
    "train_size = int(0.8 * len(df))\n",
    "train_size"
   ]
  },
  {
   "cell_type": "code",
   "execution_count": 9,
   "metadata": {},
   "outputs": [
    {
     "data": {
      "text/plain": [
       "275"
      ]
     },
     "execution_count": 9,
     "metadata": {},
     "output_type": "execute_result"
    }
   ],
   "source": [
    "# validation size\n",
    "val_size = X_features.shape[0] - train_size\n",
    "val_size"
   ]
  },
  {
   "cell_type": "code",
   "execution_count": 10,
   "metadata": {},
   "outputs": [],
   "source": [
    "# use torch.utils to generate dataloader\n",
    "dataset = MyDataset(X_features, y_labels)\n",
    "\n",
    "# split dataset into train and validation\n",
    "train_set, val_set = torch.utils.data.random_split(dataset, [train_size, val_size])"
   ]
  },
  {
   "cell_type": "code",
   "execution_count": 11,
   "metadata": {},
   "outputs": [],
   "source": [
    "# make train dataloader\n",
    "train_loader = DataLoader(dataset = train_set,\n",
    "                          batch_size = 10,\n",
    "                          shuffle = True,\n",
    "                          )\n",
    "\n",
    "# make validation dataloader\n",
    "val_loader = DataLoader(dataset = val_set,\n",
    "                        batch_size = 10,\n",
    "                        shuffle = False,)"
   ]
  },
  {
   "cell_type": "code",
   "execution_count": 12,
   "metadata": {},
   "outputs": [],
   "source": [
    "# implement model\n",
    "class LogisticRegression(nn.Module):\n",
    "\n",
    "    def __init__(self, num_features):\n",
    "        super().__init__()\n",
    "        self.linear = nn.Linear(num_features, 1)\n",
    "\n",
    "    def forward(self, x):\n",
    "        logits = self.linear(x)\n",
    "        preds = torch.sigmoid(logits)\n",
    "        return preds"
   ]
  },
  {
   "cell_type": "code",
   "execution_count": 13,
   "metadata": {},
   "outputs": [],
   "source": [
    "# model agnostic code\n",
    "device = \"cuda\" if torch.cuda.is_available() else 'cpu'"
   ]
  },
  {
   "cell_type": "code",
   "execution_count": 14,
   "metadata": {},
   "outputs": [],
   "source": [
    "# define model\n",
    "model = LogisticRegression(num_features = 4).to(device)\n",
    "\n",
    "# define optimizer\n",
    "optimizer = optim.SGD(params = model.parameters(), lr = 0.1)"
   ]
  },
  {
   "cell_type": "code",
   "execution_count": 15,
   "metadata": {},
   "outputs": [
    {
     "name": "stdout",
     "output_type": "stream",
     "text": [
      "Epoch: 001/010 | Batch 000/110 | Loss: 1.80\n",
      "Epoch: 001/010 | Batch 020/110 | Loss: 0.21\n",
      "Epoch: 001/010 | Batch 040/110 | Loss: 0.26\n",
      "Epoch: 001/010 | Batch 060/110 | Loss: 0.09\n",
      "Epoch: 001/010 | Batch 080/110 | Loss: 0.04\n",
      "Epoch: 001/010 | Batch 100/110 | Loss: 0.05\n",
      "Epoch: 002/010 | Batch 000/110 | Loss: 0.04\n",
      "Epoch: 002/010 | Batch 020/110 | Loss: 0.21\n",
      "Epoch: 002/010 | Batch 040/110 | Loss: 0.09\n",
      "Epoch: 002/010 | Batch 060/110 | Loss: 0.14\n",
      "Epoch: 002/010 | Batch 080/110 | Loss: 0.04\n",
      "Epoch: 002/010 | Batch 100/110 | Loss: 0.07\n",
      "Epoch: 003/010 | Batch 000/110 | Loss: 0.05\n",
      "Epoch: 003/010 | Batch 020/110 | Loss: 0.03\n",
      "Epoch: 003/010 | Batch 040/110 | Loss: 0.07\n",
      "Epoch: 003/010 | Batch 060/110 | Loss: 0.17\n",
      "Epoch: 003/010 | Batch 080/110 | Loss: 0.07\n",
      "Epoch: 003/010 | Batch 100/110 | Loss: 0.06\n",
      "Epoch: 004/010 | Batch 000/110 | Loss: 0.14\n",
      "Epoch: 004/010 | Batch 020/110 | Loss: 0.17\n",
      "Epoch: 004/010 | Batch 040/110 | Loss: 0.04\n",
      "Epoch: 004/010 | Batch 060/110 | Loss: 0.01\n",
      "Epoch: 004/010 | Batch 080/110 | Loss: 0.04\n",
      "Epoch: 004/010 | Batch 100/110 | Loss: 0.02\n",
      "Epoch: 005/010 | Batch 000/110 | Loss: 0.08\n",
      "Epoch: 005/010 | Batch 020/110 | Loss: 0.11\n",
      "Epoch: 005/010 | Batch 040/110 | Loss: 0.05\n",
      "Epoch: 005/010 | Batch 060/110 | Loss: 0.02\n",
      "Epoch: 005/010 | Batch 080/110 | Loss: 0.07\n",
      "Epoch: 005/010 | Batch 100/110 | Loss: 0.10\n",
      "Epoch: 006/010 | Batch 000/110 | Loss: 0.01\n",
      "Epoch: 006/010 | Batch 020/110 | Loss: 0.12\n",
      "Epoch: 006/010 | Batch 040/110 | Loss: 0.06\n",
      "Epoch: 006/010 | Batch 060/110 | Loss: 0.02\n",
      "Epoch: 006/010 | Batch 080/110 | Loss: 0.15\n",
      "Epoch: 006/010 | Batch 100/110 | Loss: 0.12\n",
      "Epoch: 007/010 | Batch 000/110 | Loss: 0.03\n",
      "Epoch: 007/010 | Batch 020/110 | Loss: 0.02\n",
      "Epoch: 007/010 | Batch 040/110 | Loss: 0.15\n",
      "Epoch: 007/010 | Batch 060/110 | Loss: 0.11\n",
      "Epoch: 007/010 | Batch 080/110 | Loss: 0.10\n",
      "Epoch: 007/010 | Batch 100/110 | Loss: 0.00\n",
      "Epoch: 008/010 | Batch 000/110 | Loss: 0.01\n",
      "Epoch: 008/010 | Batch 020/110 | Loss: 0.04\n",
      "Epoch: 008/010 | Batch 040/110 | Loss: 0.03\n",
      "Epoch: 008/010 | Batch 060/110 | Loss: 0.02\n",
      "Epoch: 008/010 | Batch 080/110 | Loss: 0.03\n",
      "Epoch: 008/010 | Batch 100/110 | Loss: 0.00\n",
      "Epoch: 009/010 | Batch 000/110 | Loss: 0.02\n",
      "Epoch: 009/010 | Batch 020/110 | Loss: 0.01\n",
      "Epoch: 009/010 | Batch 040/110 | Loss: 0.01\n",
      "Epoch: 009/010 | Batch 060/110 | Loss: 0.01\n",
      "Epoch: 009/010 | Batch 080/110 | Loss: 0.02\n",
      "Epoch: 009/010 | Batch 100/110 | Loss: 0.02\n",
      "Epoch: 010/010 | Batch 000/110 | Loss: 0.05\n",
      "Epoch: 010/010 | Batch 020/110 | Loss: 0.15\n",
      "Epoch: 010/010 | Batch 040/110 | Loss: 0.01\n",
      "Epoch: 010/010 | Batch 060/110 | Loss: 0.01\n",
      "Epoch: 010/010 | Batch 080/110 | Loss: 0.04\n",
      "Epoch: 010/010 | Batch 100/110 | Loss: 0.01\n"
     ]
    }
   ],
   "source": [
    "# define training loop\n",
    "epochs = 10\n",
    "\n",
    "for epoch in range(epochs):\n",
    "    model.train()\n",
    "\n",
    "    for batch_idx, (features, class_labels) in enumerate(train_loader):\n",
    "        # make predictions\n",
    "        preds = model(features.to(device))\n",
    "\n",
    "        # calculate loss\n",
    "        loss = F.binary_cross_entropy(preds, class_labels.view(preds.shape).to(device))\n",
    "\n",
    "        # zero gradients\n",
    "        optimizer.zero_grad()\n",
    "\n",
    "        # backprop\n",
    "        loss.backward()\n",
    "\n",
    "        # optimizer step (gradient descent)\n",
    "        optimizer.step()\n",
    "\n",
    "        ### LOGGING\n",
    "        if not batch_idx % 20: # every 20 batches\n",
    "            print(f\"Epoch: {epoch+1:03d}/{epochs:03d} | \"\n",
    "                  f\"Batch {batch_idx:03d}/{len(train_loader):03d} | \"\n",
    "                  f\"Loss: {loss:.2f}\")"
   ]
  },
  {
   "cell_type": "markdown",
   "metadata": {},
   "source": [
    "### Check Accuaracy"
   ]
  },
  {
   "cell_type": "code",
   "execution_count": 21,
   "metadata": {},
   "outputs": [],
   "source": [
    "# create function to compute accuracy\n",
    "def compute_accuracy(model, dataloader):\n",
    "    model.eval()\n",
    "\n",
    "    correct = 0.0\n",
    "    num_examples = 0\n",
    "\n",
    "    for idx, (features, class_labels) in enumerate(dataloader):\n",
    "        # make predictions\n",
    "        with torch.inference_mode():\n",
    "            pred = model(features.to(device))\n",
    "\n",
    "        # calculate accuracy\n",
    "        preds = torch.where(pred > 0.5, 1, 0)\n",
    "        lab = class_labels.view(preds.shape).to(preds.dtype).to(device)\n",
    "        compare = lab == preds\n",
    "        correct += torch.sum(compare)\n",
    "        num_examples += len(compare)\n",
    "    \n",
    "    return correct / num_examples"
   ]
  },
  {
   "cell_type": "code",
   "execution_count": 24,
   "metadata": {},
   "outputs": [
    {
     "name": "stdout",
     "output_type": "stream",
     "text": [
      "Train Accuracy: 98.91%\n",
      "Val Accuray 99.272728%\n"
     ]
    }
   ],
   "source": [
    "# compute accuracy on train and validation\n",
    "train_acc = compute_accuracy(model, train_loader)\n",
    "print(f\"Train Accuracy: {train_acc*100:.2f}%\")\n",
    "\n",
    "train_val = compute_accuracy(model, val_loader)\n",
    "print(f\"Val Accuray {train_val * 100:2f}%\")"
   ]
  }
 ],
 "metadata": {
  "kernelspec": {
   "display_name": "Python 3 (ipykernel)",
   "language": "python",
   "name": "python3"
  },
  "language_info": {
   "codemirror_mode": {
    "name": "ipython",
    "version": 3
   },
   "file_extension": ".py",
   "mimetype": "text/x-python",
   "name": "python",
   "nbconvert_exporter": "python",
   "pygments_lexer": "ipython3",
   "version": "3.9.16"
  }
 },
 "nbformat": 4,
 "nbformat_minor": 2
}
