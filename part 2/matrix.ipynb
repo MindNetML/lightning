{
 "cells": [
  {
   "cell_type": "code",
   "execution_count": 2,
   "metadata": {},
   "outputs": [],
   "source": [
    "import torch\n",
    "\n",
    "class Perceptron:\n",
    "    def __init__(self):\n",
    "        self.weights = torch.tensor([2.86, 1.98])\n",
    "        self.bias = torch.tensor(-3.0)\n",
    "\n",
    "    def forward(self, x):\n",
    "        weighted_sum_z = torch.dot(x, self.weights) + self.bias\n",
    "\n",
    "        if weighted_sum_z > 0.0:\n",
    "            prediction = torch.tensor(1.0)\n",
    "        else:\n",
    "            prediction = torch.tensor(0.0)\n",
    "\n",
    "        return prediction"
   ]
  },
  {
   "cell_type": "code",
   "execution_count": 3,
   "metadata": {},
   "outputs": [],
   "source": [
    "# data\n",
    "X_data = torch.tensor([\n",
    "    [-1.0, -2.0],\n",
    "    [-3.0, 4.5],\n",
    "    [5.0, 6.0]\n",
    "])"
   ]
  },
  {
   "cell_type": "code",
   "execution_count": 4,
   "metadata": {},
   "outputs": [],
   "source": [
    "# modify class so it multiplies the tensors efficitently\n",
    "class Perceptron:\n",
    "    def __init__(self):\n",
    "        self.weights = torch.tensor([2.86, 1.98])\n",
    "        self.bias = torch.tensor(-3.0)\n",
    "\n",
    "    def forward(self, x):\n",
    "        ### YOUR CODE ###\n",
    "        weighted_sum_z = torch.matmul(x, self.weights) + self.bias\n",
    "        predictions = torch.where(weighted_sum_z > 0., 1., 0.)\n",
    "        return predictions\n"
   ]
  },
  {
   "cell_type": "code",
   "execution_count": 6,
   "metadata": {},
   "outputs": [
    {
     "data": {
      "text/plain": [
       "tensor([0., 0., 1.])"
      ]
     },
     "execution_count": 6,
     "metadata": {},
     "output_type": "execute_result"
    }
   ],
   "source": [
    "model = Perceptron()\n",
    "model.forward(X_data)"
   ]
  }
 ],
 "metadata": {
  "kernelspec": {
   "display_name": "Python 3 (ipykernel)",
   "language": "python",
   "name": "python3"
  },
  "language_info": {
   "codemirror_mode": {
    "name": "ipython",
    "version": 3
   },
   "file_extension": ".py",
   "mimetype": "text/x-python",
   "name": "python",
   "nbconvert_exporter": "python",
   "pygments_lexer": "ipython3",
   "version": "3.9.16"
  }
 },
 "nbformat": 4,
 "nbformat_minor": 2
}
