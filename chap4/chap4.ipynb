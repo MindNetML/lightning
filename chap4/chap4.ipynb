{
 "cells": [
  {
   "cell_type": "code",
   "execution_count": 233,
   "metadata": {},
   "outputs": [],
   "source": [
    "# import dependencies\n",
    "import numpy as np\n",
    "import pandas as pd\n",
    "import matplotlib.pyplot as plt\n",
    "import torch\n",
    "import torch.nn as nn\n",
    "import torch.utils.data as Data\n",
    "import torchvision\n",
    "import torch.nn.functional as F\n",
    "from torch.utils.data import Dataset, DataLoader\n",
    "from torchvision import datasets, transforms"
   ]
  },
  {
   "cell_type": "code",
   "execution_count": 234,
   "metadata": {},
   "outputs": [],
   "source": [
    "# function for data loading\n",
    "def load_data_fashion(path, kind = \"train\"):\n",
    "    import os\n",
    "    import gzip\n",
    "    import numpy as np\n",
    "\n",
    "    \"\"\"Load Fashion-MNIST data from `path`\"\"\"\n",
    "    labels_path = os.path.join(path,'%s-labels-idx1-ubyte.gz'% kind)\n",
    "    images_path = os.path.join(path,'%s-images-idx3-ubyte.gz'% kind)\n",
    "\n",
    "    with gzip.open(labels_path, 'rb') as lbpath:\n",
    "        labels = np.frombuffer(lbpath.read(), dtype=np.uint8,offset=8)\n",
    "\n",
    "    with gzip.open(images_path, 'rb') as imgpath:\n",
    "        images = np.frombuffer(imgpath.read(),dtype=np.uint8,offset=16).reshape(len(labels), 784)\n",
    "\n",
    "    return images, labels"
   ]
  },
  {
   "cell_type": "code",
   "execution_count": 235,
   "metadata": {},
   "outputs": [],
   "source": [
    "# load data using above functin\n",
    "X_train, y_train = load_data_fashion(\"fashion\", kind = \"train\")\n",
    "X_test, y_test = load_data_fashion(\"fashion\", kind = \"t10k\")\n"
   ]
  },
  {
   "cell_type": "code",
   "execution_count": 236,
   "metadata": {},
   "outputs": [
    {
     "name": "stdout",
     "output_type": "stream",
     "text": [
      "(60000, 784)\n",
      "(60000,)\n",
      "(10000, 784)\n",
      "(10000,)\n"
     ]
    }
   ],
   "source": [
    "# view data\n",
    "print(X_train.shape)\n",
    "print(y_train.shape)\n",
    "print(X_test.shape)\n",
    "print(y_test.shape)"
   ]
  },
  {
   "cell_type": "code",
   "execution_count": 237,
   "metadata": {},
   "outputs": [],
   "source": [
    "# create dataset class\n",
    "class MyDataset(Dataset):\n",
    "    def __init__(self, image_path, kind, transforms = None):\n",
    "        \n",
    "        self.transforms = transforms\n",
    "        self.images, self.labels = load_data_fashion(image_path, kind = kind)\n",
    "        \n",
    "    def __getitem__(self, index):\n",
    "        img = self.images[index]\n",
    "        img = torch.tensor(img, dtype = torch.float32)\n",
    "        img = img/255\n",
    "        label = self.labels[index]\n",
    "\n",
    "        if self.transforms is not None:\n",
    "            img = self.transforms(img)\n",
    "        label = torch.tensor(label, dtype = torch.long)\n",
    "        return img, label\n",
    "    \n",
    "    def __len__(self):\n",
    "        return len(self.images)"
   ]
  },
  {
   "cell_type": "code",
   "execution_count": 238,
   "metadata": {},
   "outputs": [],
   "source": [
    "# pass data from dataset to dataloader for training and testing\n",
    "train_dataset = MyDataset(\"fashion\", kind = \"train\")\n",
    "test_dataset = MyDataset(\"fashion\", kind = \"t10k\")"
   ]
  },
  {
   "cell_type": "code",
   "execution_count": 239,
   "metadata": {},
   "outputs": [
    {
     "name": "stdout",
     "output_type": "stream",
     "text": [
      "60000\n",
      "10000\n"
     ]
    }
   ],
   "source": [
    "# view data\n",
    "print(len(train_dataset))\n",
    "print(len(test_dataset))"
   ]
  },
  {
   "cell_type": "markdown",
   "metadata": {},
   "source": [
    "### create validation set"
   ]
  },
  {
   "cell_type": "code",
   "execution_count": 240,
   "metadata": {},
   "outputs": [
    {
     "name": "stdout",
     "output_type": "stream",
     "text": [
      "48000\n",
      "12000\n"
     ]
    }
   ],
   "source": [
    "from torch.utils.data.dataset import random_split\n",
    "\n",
    "# split data into train and validation\n",
    "train_size = int(0.8 * len(train_dataset))\n",
    "val_size = len(train_dataset) - train_size\n",
    "train_dataset, val_dataset = random_split(train_dataset, [train_size, val_size])\n",
    "\n",
    "# view data\n",
    "print(len(train_dataset))\n",
    "print(len(val_dataset))"
   ]
  },
  {
   "cell_type": "code",
   "execution_count": 241,
   "metadata": {},
   "outputs": [],
   "source": [
    "# create data loaders\n",
    "train_loader = DataLoader(dataset = train_dataset, batch_size=64, shuffle=True)\n",
    "val_loader = DataLoader(dataset = val_dataset, batch_size = 64, shuffle = True)\n",
    "test_loader = DataLoader(dataset = test_dataset, batch_size = 64, shuffle = True)"
   ]
  },
  {
   "cell_type": "code",
   "execution_count": 242,
   "metadata": {},
   "outputs": [],
   "source": [
    "# create model class\n",
    "class PytorchMLP(nn.Module):\n",
    "    def __init__(self, num_features, num_classes):\n",
    "        super().__init__()\n",
    "        self.big_layer = nn.Sequential(nn.Linear(num_features, 300),\n",
    "                                       nn.ReLU(),\n",
    "                                       nn.Linear(300, 100),\n",
    "                                       nn.ReLU(),\n",
    "                                       nn.Linear(100, 50),\n",
    "                                       nn.ReLU(),\n",
    "                                       nn.Linear(50, num_classes))\n",
    "    \n",
    "    def forward(self, x):\n",
    "        # flatten before returning\n",
    "        flatten = nn.Flatten(start_dim = 1)\n",
    "        x = flatten(x)\n",
    "        logits = self.big_layer(x)\n",
    "        return logits"
   ]
  },
  {
   "cell_type": "code",
   "execution_count": 243,
   "metadata": {},
   "outputs": [],
   "source": [
    "# device agnostic code\n",
    "device = torch.device(\"cuda\" if torch.cuda.is_available() else \"cpu\")"
   ]
  },
  {
   "cell_type": "code",
   "execution_count": 244,
   "metadata": {},
   "outputs": [],
   "source": [
    "# insantiate model\n",
    "model = PytorchMLP(784, 10).to(device)"
   ]
  },
  {
   "cell_type": "code",
   "execution_count": 245,
   "metadata": {},
   "outputs": [],
   "source": [
    "# accuracy function\n",
    "def compute_accuracy(model, dataloader):\n",
    "    model.eval()\n",
    "\n",
    "    correct = 0.0\n",
    "    total_examples = 0\n",
    "\n",
    "    for idx, (features, labels) in enumerate(dataloader):\n",
    "        features = features.to(device)\n",
    "        labels = labels.to(device)\n",
    "        with torch.inference_mode():\n",
    "            logits = model(features)\n",
    "\n",
    "        prediction = torch.argmax(logits, dim = 1)\n",
    "        compare = labels == prediction\n",
    "        correct += torch.sum(compare)\n",
    "        total_examples += len(compare)\n",
    "\n",
    "    return correct / total_examples    "
   ]
  },
  {
   "cell_type": "code",
   "execution_count": 246,
   "metadata": {},
   "outputs": [
    {
     "name": "stdout",
     "output_type": "stream",
     "text": [
      "Epoch: 001/030 | Batch: 000/750 | Train Loss: 2.29\n",
      "Epoch: 001/030 | Batch: 250/750 | Train Loss: 2.27\n",
      "Epoch: 001/030 | Batch: 500/750 | Train Loss: 2.14\n",
      "Train Accuracy: 40.69% | Val Accuracy: 40.30\n",
      "Epoch: 002/030 | Batch: 000/750 | Train Loss: 1.82\n",
      "Epoch: 002/030 | Batch: 250/750 | Train Loss: 1.35\n",
      "Epoch: 002/030 | Batch: 500/750 | Train Loss: 1.16\n",
      "Train Accuracy: 61.96% | Val Accuracy: 60.88\n",
      "Epoch: 003/030 | Batch: 000/750 | Train Loss: 0.89\n",
      "Epoch: 003/030 | Batch: 250/750 | Train Loss: 0.98\n",
      "Epoch: 003/030 | Batch: 500/750 | Train Loss: 0.79\n",
      "Train Accuracy: 67.91% | Val Accuracy: 67.41\n",
      "Epoch: 004/030 | Batch: 000/750 | Train Loss: 0.72\n",
      "Epoch: 004/030 | Batch: 250/750 | Train Loss: 0.64\n",
      "Epoch: 004/030 | Batch: 500/750 | Train Loss: 0.60\n",
      "Train Accuracy: 72.83% | Val Accuracy: 72.01\n",
      "Epoch: 005/030 | Batch: 000/750 | Train Loss: 0.65\n",
      "Epoch: 005/030 | Batch: 250/750 | Train Loss: 0.73\n",
      "Epoch: 005/030 | Batch: 500/750 | Train Loss: 0.79\n",
      "Train Accuracy: 76.60% | Val Accuracy: 75.54\n",
      "Epoch: 006/030 | Batch: 000/750 | Train Loss: 0.56\n",
      "Epoch: 006/030 | Batch: 250/750 | Train Loss: 0.48\n",
      "Epoch: 006/030 | Batch: 500/750 | Train Loss: 0.67\n",
      "Train Accuracy: 78.75% | Val Accuracy: 77.97\n",
      "Epoch: 007/030 | Batch: 000/750 | Train Loss: 0.65\n",
      "Epoch: 007/030 | Batch: 250/750 | Train Loss: 0.73\n",
      "Epoch: 007/030 | Batch: 500/750 | Train Loss: 0.53\n",
      "Train Accuracy: 79.79% | Val Accuracy: 78.95\n",
      "Epoch: 008/030 | Batch: 000/750 | Train Loss: 0.56\n",
      "Epoch: 008/030 | Batch: 250/750 | Train Loss: 0.69\n",
      "Epoch: 008/030 | Batch: 500/750 | Train Loss: 0.52\n",
      "Train Accuracy: 80.67% | Val Accuracy: 79.67\n",
      "Epoch: 009/030 | Batch: 000/750 | Train Loss: 0.44\n",
      "Epoch: 009/030 | Batch: 250/750 | Train Loss: 0.56\n",
      "Epoch: 009/030 | Batch: 500/750 | Train Loss: 0.66\n",
      "Train Accuracy: 81.70% | Val Accuracy: 80.74\n",
      "Epoch: 010/030 | Batch: 000/750 | Train Loss: 0.38\n",
      "Epoch: 010/030 | Batch: 250/750 | Train Loss: 0.37\n",
      "Epoch: 010/030 | Batch: 500/750 | Train Loss: 0.46\n",
      "Train Accuracy: 82.71% | Val Accuracy: 81.85\n",
      "Epoch: 011/030 | Batch: 000/750 | Train Loss: 0.59\n",
      "Epoch: 011/030 | Batch: 250/750 | Train Loss: 0.44\n",
      "Epoch: 011/030 | Batch: 500/750 | Train Loss: 0.44\n",
      "Train Accuracy: 82.96% | Val Accuracy: 82.29\n",
      "Epoch: 012/030 | Batch: 000/750 | Train Loss: 0.43\n",
      "Epoch: 012/030 | Batch: 250/750 | Train Loss: 0.40\n",
      "Epoch: 012/030 | Batch: 500/750 | Train Loss: 0.39\n",
      "Train Accuracy: 83.42% | Val Accuracy: 82.60\n",
      "Epoch: 013/030 | Batch: 000/750 | Train Loss: 0.29\n",
      "Epoch: 013/030 | Batch: 250/750 | Train Loss: 0.40\n",
      "Epoch: 013/030 | Batch: 500/750 | Train Loss: 0.35\n",
      "Train Accuracy: 83.77% | Val Accuracy: 82.77\n",
      "Epoch: 014/030 | Batch: 000/750 | Train Loss: 0.64\n",
      "Epoch: 014/030 | Batch: 250/750 | Train Loss: 0.46\n",
      "Epoch: 014/030 | Batch: 500/750 | Train Loss: 0.38\n",
      "Train Accuracy: 83.57% | Val Accuracy: 82.52\n",
      "Epoch: 015/030 | Batch: 000/750 | Train Loss: 0.36\n",
      "Epoch: 015/030 | Batch: 250/750 | Train Loss: 0.36\n",
      "Epoch: 015/030 | Batch: 500/750 | Train Loss: 0.34\n",
      "Train Accuracy: 84.84% | Val Accuracy: 83.81\n",
      "Epoch: 016/030 | Batch: 000/750 | Train Loss: 0.46\n",
      "Epoch: 016/030 | Batch: 250/750 | Train Loss: 0.52\n",
      "Epoch: 016/030 | Batch: 500/750 | Train Loss: 0.49\n",
      "Train Accuracy: 84.54% | Val Accuracy: 83.57\n",
      "Epoch: 017/030 | Batch: 000/750 | Train Loss: 0.35\n",
      "Epoch: 017/030 | Batch: 250/750 | Train Loss: 0.39\n",
      "Epoch: 017/030 | Batch: 500/750 | Train Loss: 0.40\n",
      "Train Accuracy: 85.37% | Val Accuracy: 84.57\n",
      "Epoch: 018/030 | Batch: 000/750 | Train Loss: 0.44\n",
      "Epoch: 018/030 | Batch: 250/750 | Train Loss: 0.47\n",
      "Epoch: 018/030 | Batch: 500/750 | Train Loss: 0.53\n",
      "Train Accuracy: 85.39% | Val Accuracy: 84.24\n",
      "Epoch: 019/030 | Batch: 000/750 | Train Loss: 0.44\n",
      "Epoch: 019/030 | Batch: 250/750 | Train Loss: 0.41\n",
      "Epoch: 019/030 | Batch: 500/750 | Train Loss: 0.48\n",
      "Train Accuracy: 85.49% | Val Accuracy: 84.40\n",
      "Epoch: 020/030 | Batch: 000/750 | Train Loss: 0.33\n",
      "Epoch: 020/030 | Batch: 250/750 | Train Loss: 0.40\n",
      "Epoch: 020/030 | Batch: 500/750 | Train Loss: 0.43\n",
      "Train Accuracy: 85.88% | Val Accuracy: 84.80\n",
      "Epoch: 021/030 | Batch: 000/750 | Train Loss: 0.46\n",
      "Epoch: 021/030 | Batch: 250/750 | Train Loss: 0.37\n",
      "Epoch: 021/030 | Batch: 500/750 | Train Loss: 0.40\n",
      "Train Accuracy: 86.23% | Val Accuracy: 84.87\n",
      "Epoch: 022/030 | Batch: 000/750 | Train Loss: 0.35\n",
      "Epoch: 022/030 | Batch: 250/750 | Train Loss: 0.38\n",
      "Epoch: 022/030 | Batch: 500/750 | Train Loss: 0.47\n",
      "Train Accuracy: 86.33% | Val Accuracy: 85.25\n",
      "Epoch: 023/030 | Batch: 000/750 | Train Loss: 0.35\n",
      "Epoch: 023/030 | Batch: 250/750 | Train Loss: 0.37\n",
      "Epoch: 023/030 | Batch: 500/750 | Train Loss: 0.64\n",
      "Train Accuracy: 86.61% | Val Accuracy: 85.37\n",
      "Epoch: 024/030 | Batch: 000/750 | Train Loss: 0.41\n",
      "Epoch: 024/030 | Batch: 250/750 | Train Loss: 0.27\n",
      "Epoch: 024/030 | Batch: 500/750 | Train Loss: 0.49\n",
      "Train Accuracy: 86.76% | Val Accuracy: 85.41\n",
      "Epoch: 025/030 | Batch: 000/750 | Train Loss: 0.17\n",
      "Epoch: 025/030 | Batch: 250/750 | Train Loss: 0.42\n",
      "Epoch: 025/030 | Batch: 500/750 | Train Loss: 0.34\n",
      "Train Accuracy: 86.65% | Val Accuracy: 85.15\n",
      "Epoch: 026/030 | Batch: 000/750 | Train Loss: 0.42\n",
      "Epoch: 026/030 | Batch: 250/750 | Train Loss: 0.58\n",
      "Epoch: 026/030 | Batch: 500/750 | Train Loss: 0.51\n",
      "Train Accuracy: 87.17% | Val Accuracy: 85.83\n",
      "Epoch: 027/030 | Batch: 000/750 | Train Loss: 0.40\n",
      "Epoch: 027/030 | Batch: 250/750 | Train Loss: 0.36\n",
      "Epoch: 027/030 | Batch: 500/750 | Train Loss: 0.32\n",
      "Train Accuracy: 86.63% | Val Accuracy: 85.33\n",
      "Epoch: 028/030 | Batch: 000/750 | Train Loss: 0.29\n",
      "Epoch: 028/030 | Batch: 250/750 | Train Loss: 0.47\n",
      "Epoch: 028/030 | Batch: 500/750 | Train Loss: 0.47\n",
      "Train Accuracy: 87.11% | Val Accuracy: 85.83\n",
      "Epoch: 029/030 | Batch: 000/750 | Train Loss: 0.33\n",
      "Epoch: 029/030 | Batch: 250/750 | Train Loss: 0.37\n",
      "Epoch: 029/030 | Batch: 500/750 | Train Loss: 0.31\n",
      "Train Accuracy: 87.59% | Val Accuracy: 86.33\n",
      "Epoch: 030/030 | Batch: 000/750 | Train Loss: 0.27\n",
      "Epoch: 030/030 | Batch: 250/750 | Train Loss: 0.64\n",
      "Epoch: 030/030 | Batch: 500/750 | Train Loss: 0.44\n",
      "Train Accuracy: 87.50% | Val Accuracy: 85.97\n"
     ]
    }
   ],
   "source": [
    "# define training loop\n",
    "optimizer = torch.optim.SGD(model.parameters(), lr=0.007)\n",
    "\n",
    "epochs = 30\n",
    "\n",
    "loss_list = []\n",
    "train_acclist, val_acclist = [], []\n",
    "for epoch in range(epochs):\n",
    "    model.train()\n",
    "\n",
    "    for batchidx, (features, labels) in enumerate(train_loader):\n",
    "        features = features.to(device)  # Move features tensor to the same device as the model\n",
    "\n",
    "        logits = model(features)\n",
    "\n",
    "        loss = F.cross_entropy(logits, labels.to(device))\n",
    "\n",
    "        optimizer.zero_grad()\n",
    "\n",
    "        loss.backward()\n",
    "\n",
    "        optimizer.step()\n",
    "\n",
    "        if not batchidx % 250:\n",
    "            print(\n",
    "                f\"Epoch: {epoch + 1:03d}/{epochs:03d}\"\n",
    "                f\" | Batch: {batchidx:03d}/{len(train_loader):03d}\"\n",
    "                f\" | Train Loss: {loss:.2f}\"\n",
    "            )\n",
    "        loss_list.append(loss.item())\n",
    "        \n",
    "        loss = F.cross_entropy(logits, labels.to(device))\n",
    "    \n",
    "    train_acc = compute_accuracy(model, train_loader)\n",
    "    val_acc = compute_accuracy(model, val_loader)\n",
    "    print(f\"Train Accuracy: {train_acc * 100:.2f}% | Val Accuracy: {val_acc * 100:.2f}\")\n",
    "    train_acclist.append(train_acc)\n",
    "    val_acclist.append(val_acc)\n",
    "\n"
   ]
  },
  {
   "cell_type": "code",
   "execution_count": 247,
   "metadata": {},
   "outputs": [
    {
     "name": "stdout",
     "output_type": "stream",
     "text": [
      "Train Accuracy: 87.50% | Val Accuracy: 85.97% | Test Accuracy: 85.34%\n"
     ]
    }
   ],
   "source": [
    "train_acc = compute_accuracy(model, train_loader)\n",
    "val_acc = compute_accuracy(model, val_loader)\n",
    "test_acc = compute_accuracy(model, test_loader)\n",
    "print(f\"Train Accuracy: {train_acc * 100:.2f}% | Val Accuracy: {val_acc * 100:.2f}% | Test Accuracy: {test_acc * 100:.2f}%\")\n"
   ]
  },
  {
   "cell_type": "code",
   "execution_count": 251,
   "metadata": {},
   "outputs": [
    {
     "data": {
      "text/plain": [
       "(None,)"
      ]
     },
     "execution_count": 251,
     "metadata": {},
     "output_type": "execute_result"
    },
    {
     "data": {
      "image/png": "[encoded data removed]",
      "text/plain": [
       "<Figure size 640x480 with 2 Axes>"
      ]
     },
     "metadata": {},
     "output_type": "display_data"
    }
   ],
   "source": [
    "from helper_plotting import plot_training_loss, plot_accuracy\n",
    "\n",
    "plot_training_loss(minibatch_loss_list=loss_list, \n",
    "                   num_epochs=epochs,\n",
    "                   iter_per_epoch=len(loss_list)//epochs),"
   ]
  },
  {
   "cell_type": "code",
   "execution_count": 258,
   "metadata": {},
   "outputs": [
    {
     "data": {
      "image/png": "[encoded data removed]",
      "text/plain": [
       "<Figure size 640x480 with 1 Axes>"
      ]
     },
     "metadata": {},
     "output_type": "display_data"
    }
   ],
   "source": [
    "# turn train_acclist and val_acclist using .cpu\n",
    "train_acclist = [x.cpu() for x in train_acclist]\n",
    "val_acclist = [x.cpu() for x in val_acclist]\n",
    "\n",
    "plot_accuracy(train_acc_list=train_acclist, valid_acc_list=val_acclist)"
   ]
  }
 ],
 "metadata": {
  "kernelspec": {
   "display_name": "Python 3 (ipykernel)",
   "language": "python",
   "name": "python3"
  },
  "language_info": {
   "codemirror_mode": {
    "name": "ipython",
    "version": 3
   },
   "file_extension": ".py",
   "mimetype": "text/x-python",
   "name": "python",
   "nbconvert_exporter": "python",
   "pygments_lexer": "ipython3",
   "version": "3.9.16"
  }
 },
 "nbformat": 4,
 "nbformat_minor": 2
}
